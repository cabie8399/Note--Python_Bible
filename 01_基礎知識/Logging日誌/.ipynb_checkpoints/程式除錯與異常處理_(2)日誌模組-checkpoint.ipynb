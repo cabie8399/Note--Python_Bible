{
 "cells": [
  {
   "cell_type": "markdown",
   "metadata": {},
   "source": [
    "# 程式除錯與異常處理_(2)日誌模組"
   ]
  },
  {
   "cell_type": "markdown",
   "metadata": {},
   "source": [
    "# 1. 日誌模組logging\n",
    "\n",
    "\n",
    "有了日誌模組，我們就可以看到關鍵變數在每個階段的變化<br>\n",
    "以方便我們來除錯，且未來正式上線，並不用刪除，只需要適度加上指令就可以隱藏他們。<br>\n",
    "\n",
    "\n",
    "\n",
    "- logging的等級:<br>\n",
    "\n",
    "![](https://trello-attachments.s3.amazonaws.com/5e61ca986670c26011a76758/787x723/ce13045f8d0aefe9581b601013d25a16/image.png)\n",
    "\n",
    "可以使用下列函數設定顯示資訊的等級:\n",
    "\n",
    "```py\n",
    "import logging\n",
    "\n",
    "logging.basicConfig(level=logging.DEBUG) #假設是DEBUG等級\n",
    "```\n",
    "當設定logging為某一個等級後，只有這個等級跟更高等級會被顯示。"
   ]
  },
  {
   "cell_type": "markdown",
   "metadata": {},
   "source": [
    "# 2. 格式化logging訊息輸出format\n",
    "\n",
    "- logging.basicConfig(level=logging.DEBUG,format=\" \")"
   ]
  },
  {
   "cell_type": "code",
   "execution_count": 16,
   "metadata": {},
   "outputs": [
    {
     "name": "stderr",
     "output_type": "stream",
     "text": [
      ",\n",
      ",\n",
      ",\n",
      ",\n",
      ",\n"
     ]
    }
   ],
   "source": [
    "import logging\n",
    "\n",
    "logging.basicConfig(level=logging.DEBUG,format=\"\")\n",
    "\n",
    "logging.debug('msg ,debug')\n",
    "logging.info('msg ,info')\n",
    "logging.warning('msg ,warning')\n",
    "logging.error('msg ,error')\n",
    "logging.critical('msg ,critical')"
   ]
  },
  {
   "cell_type": "code",
   "execution_count": 14,
   "metadata": {},
   "outputs": [
    {
     "name": "stderr",
     "output_type": "stream",
     "text": [
      ",\n",
      ",\n",
      ",\n",
      ",\n",
      ",\n"
     ]
    }
   ],
   "source": [
    "import logging\n",
    "\n",
    "logging.basicConfig(level=logging.DEBUG)\n",
    "\n",
    "logging.debug('msg debug')\n",
    "logging.info('msg info')\n",
    "logging.warning('msg warning')\n",
    "logging.error('msg error')\n",
    "logging.critical('msg critical')"
   ]
  },
  {
   "cell_type": "markdown",
   "metadata": {},
   "source": [
    "# 3. 時間資訊asctime"
   ]
  },
  {
   "cell_type": "code",
   "execution_count": 17,
   "metadata": {},
   "outputs": [
    {
     "name": "stderr",
     "output_type": "stream",
     "text": [
      ",\n",
      ",\n",
      ",\n",
      ",\n",
      ",\n"
     ]
    }
   ],
   "source": [
    "import logging\n",
    "\n",
    "logging.basicConfig(level=logging.DEBUG,format='%(asctime)s')\n",
    "\n",
    "logging.debug('msg debug')\n",
    "logging.info('msg info')\n",
    "logging.warning('msg warning')\n",
    "logging.error('msg error')\n",
    "logging.critical('msg critical')"
   ]
  },
  {
   "cell_type": "code",
   "execution_count": 23,
   "metadata": {},
   "outputs": [
    {
     "name": "stderr",
     "output_type": "stream",
     "text": [
      ",\n",
      ",\n",
      ",\n"
     ]
    }
   ],
   "source": [
    "import logging\n",
    "logging.basicConfig(filename='example.log',level=logging.DEBUG)\n",
    "logging.debug('This message should go to the log file')\n",
    "logging.info('So should this')\n",
    "logging.warning('And this, too')"
   ]
  },
  {
   "cell_type": "code",
   "execution_count": null,
   "metadata": {},
   "outputs": [],
   "source": []
  },
  {
   "cell_type": "code",
   "execution_count": null,
   "metadata": {},
   "outputs": [],
   "source": []
  },
  {
   "cell_type": "code",
   "execution_count": null,
   "metadata": {},
   "outputs": [],
   "source": []
  },
  {
   "cell_type": "code",
   "execution_count": null,
   "metadata": {},
   "outputs": [],
   "source": []
  }
 ],
 "metadata": {
  "kernelspec": {
   "display_name": "Python 3",
   "language": "python",
   "name": "python3"
  },
  "language_info": {
   "codemirror_mode": {
    "name": "ipython",
    "version": 3
   },
   "file_extension": ".py",
   "mimetype": "text/x-python",
   "name": "python",
   "nbconvert_exporter": "python",
   "pygments_lexer": "ipython3",
   "version": "3.7.3"
  }
 },
 "nbformat": 4,
 "nbformat_minor": 2
}
