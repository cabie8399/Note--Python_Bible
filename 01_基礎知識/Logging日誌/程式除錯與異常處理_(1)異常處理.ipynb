{
 "cells": [
  {
   "cell_type": "markdown",
   "metadata": {},
   "source": [
    "# 1. 基本異常處理\n",
    "\n",
    "try...except...else"
   ]
  },
  {
   "cell_type": "code",
   "execution_count": 1,
   "metadata": {},
   "outputs": [
    {
     "name": "stdout",
     "output_type": "stream",
     "text": [
      "找不到data1.txt檔案\n",
      "找不到data2.txt檔案\n"
     ]
    }
   ],
   "source": [
    "def wordsNum(fn):\n",
    "    try:\n",
    "        with open(fn) as file_Obj:\n",
    "            data = file_Obj.read()\n",
    "    except FileNotFoundError:\n",
    "        print(\"找不到{}檔案\".format(fn))\n",
    "    else:\n",
    "        wordList = data.split()\n",
    "        print(fn,\"字數是\",len(wordList))\n",
    "        \n",
    "files = [\"data1.txt\",\"data2.txt\"]\n",
    "for i in files:\n",
    "    wordsNum(i)"
   ]
  },
  {
   "cell_type": "markdown",
   "metadata": {},
   "source": [
    "# 2. 設計多組異常處理程序\n",
    "\n",
    "- 認識常見的異常物件<br>\n",
    "\n",
    "\n",
    "![](https://trello-attachments.s3.amazonaws.com/5e61ca986670c26011a76758/558x523/82dbca236c44ae81ec74b4c4966d18c8/image.png)"
   ]
  },
  {
   "cell_type": "markdown",
   "metadata": {},
   "source": [
    "## 2-1. 捕捉多個異常"
   ]
  },
  {
   "cell_type": "code",
   "execution_count": 3,
   "metadata": {},
   "outputs": [
    {
     "name": "stdout",
     "output_type": "stream",
     "text": [
      "發生錯誤\n",
      "None\n",
      "發生錯誤\n",
      "None\n"
     ]
    }
   ],
   "source": [
    "def division(x,y):\n",
    "    try:\n",
    "        return x/y\n",
    "    except (ZeroDivisionError,TypeError):\n",
    "        print(\"發生錯誤\")\n",
    "\n",
    "        \n",
    "print(division(5,0))\n",
    "print(division(\"a\",\"b\"))"
   ]
  },
  {
   "cell_type": "markdown",
   "metadata": {},
   "source": [
    "## 2-2. 使用python內建錯誤訊息"
   ]
  },
  {
   "cell_type": "code",
   "execution_count": 4,
   "metadata": {},
   "outputs": [
    {
     "name": "stdout",
     "output_type": "stream",
     "text": [
      "division by zero\n",
      "None\n",
      "unsupported operand type(s) for /: 'str' and 'str'\n",
      "None\n"
     ]
    }
   ],
   "source": [
    "def division(x,y):\n",
    "    try:\n",
    "        return x/y\n",
    "    except (ZeroDivisionError,TypeError) as e:\n",
    "        print(e)\n",
    "\n",
    "        \n",
    "print(division(5,0))\n",
    "print(division(\"a\",\"b\"))"
   ]
  },
  {
   "cell_type": "markdown",
   "metadata": {},
   "source": [
    "## 2-3. 捕捉所有異常"
   ]
  },
  {
   "cell_type": "code",
   "execution_count": 6,
   "metadata": {},
   "outputs": [
    {
     "name": "stdout",
     "output_type": "stream",
     "text": [
      "異常發生\n",
      "None\n",
      "異常發生\n",
      "None\n"
     ]
    }
   ],
   "source": [
    "def division(x,y):\n",
    "    try:\n",
    "        return x/y\n",
    "    except:\n",
    "        print(\"異常發生\")\n",
    "\n",
    "        \n",
    "print(division(5,0))\n",
    "print(division(\"a\",\"b\"))"
   ]
  },
  {
   "cell_type": "markdown",
   "metadata": {},
   "source": [
    "# 3. 丟出異常\n",
    "\n",
    "我們自己設計某些狀況為異常柔後丟出訊息<br>\n",
    "\n",
    "- 語法:<br>\n",
    "\n",
    "```py\n",
    "raise Exception(\"msg\")\n",
    "\n",
    "try:\n",
    "    指令\n",
    "except Exception as err:\n",
    "    print(\"message\"+str(err))\n",
    "```"
   ]
  },
  {
   "cell_type": "code",
   "execution_count": 7,
   "metadata": {},
   "outputs": [
    {
     "name": "stdout",
     "output_type": "stream",
     "text": [
      "密碼長度異常: 密碼長度小於5\n",
      "密碼長度正確\n",
      "密碼長度異常: 密碼長度大於8\n"
     ]
    }
   ],
   "source": [
    "# 範例:密碼少於 5 或大於 8 報錯\n",
    "\n",
    "\n",
    "def passwd(pwd):\n",
    "    pwdlen = len(pwd)\n",
    "    if pwdlen < 5:\n",
    "        raise Exception(\"密碼長度小於5\")\n",
    "    if pwdlen > 8:\n",
    "        raise Exception(\"密碼長度大於8\")\n",
    "        \n",
    "    print(\"密碼長度正確\")\n",
    "    \n",
    "for i in ('aaa','bbbbbb','ccccccccc'):\n",
    "    try:\n",
    "        passwd(i)\n",
    "    except Exception as err:\n",
    "        print(\"密碼長度異常:\",str(err))"
   ]
  },
  {
   "cell_type": "markdown",
   "metadata": {},
   "source": [
    "# 4. 紀錄Traceback 字串，產生LOG檔\n",
    "\n",
    "導入traceback模組，就可以使用traceback.format_exc()紀錄。"
   ]
  },
  {
   "cell_type": "code",
   "execution_count": 8,
   "metadata": {},
   "outputs": [
    {
     "name": "stdout",
     "output_type": "stream",
     "text": [
      "密碼長度異常: 密碼長度小於5\n",
      "密碼長度正確\n",
      "密碼長度異常: 密碼長度大於8\n"
     ]
    }
   ],
   "source": [
    "# 範例:密碼少於 5 或大於 8 報錯\n",
    "\n",
    "\n",
    "import traceback\n",
    "\n",
    "def passwd(pwd):\n",
    "    pwdlen = len(pwd)\n",
    "    if pwdlen < 5:\n",
    "        raise Exception(\"密碼長度小於5\")\n",
    "    if pwdlen > 8:\n",
    "        raise Exception(\"密碼長度大於8\")\n",
    "        \n",
    "    print(\"密碼長度正確\")\n",
    "    \n",
    "for i in ('aaa','bbbbbb','ccccccccc'):\n",
    "    try:\n",
    "        passwd(i)\n",
    "    except Exception as err:\n",
    "        # 'a':附加檔案方式開啟，是因為可能執行期間會有許多錯誤\n",
    "        errlog.write(traceback.format_exc())\n",
    "        errlog = open(\"err.txt\",\"a\") \n",
    "        errlog.close()\n",
    "        print(\"密碼長度異常:\",str(err))"
   ]
  },
  {
   "cell_type": "markdown",
   "metadata": {},
   "source": [
    "# 5. finally\n",
    "\n",
    "一定要放在try...except...else後，且不管有沒有錯誤，都依定會執行。"
   ]
  },
  {
   "cell_type": "code",
   "execution_count": 11,
   "metadata": {},
   "outputs": [
    {
     "name": "stdout",
     "output_type": "stream",
     "text": [
      "異常發生\n",
      "======執行結束======\n",
      "None\n",
      "異常發生\n",
      "======執行結束======\n",
      "None\n"
     ]
    }
   ],
   "source": [
    "def division(x,y):\n",
    "    try:\n",
    "        return x/y\n",
    "    except:\n",
    "        print(\"異常發生\")\n",
    "        \n",
    "    finally:\n",
    "        print(\"======執行結束======\")\n",
    "\n",
    "        \n",
    "print(division(5,0))\n",
    "print(division(\"a\",\"b\"))"
   ]
  },
  {
   "cell_type": "markdown",
   "metadata": {},
   "source": [
    "# 6. 程式斷言assert\n",
    "\n",
    "主要功能是確保程式執行到某個階段，必須一定要符合某個條件<br>\n",
    "若不符合，則會自動拋出異常，讓程式終止。<br>\n",
    "\n",
    "- 語法:<br>\n",
    "    \n",
    "```py\n",
    "assert 條件,'字串'\n",
    "```\n",
    "執行到某階段，會檢查是否符合條件，若回傳False,則右邊字串會被丟到Traceback中。"
   ]
  },
  {
   "cell_type": "code",
   "execution_count": 14,
   "metadata": {},
   "outputs": [
    {
     "name": "stdout",
     "output_type": "stream",
     "text": [
      "Wu Pizza 目前餘額: 100\n",
      "存款 300 完成\n",
      "Wu Pizza 目前餘額: 400\n"
     ]
    },
    {
     "ename": "AssertionError",
     "evalue": "提款必須大於0",
     "output_type": "error",
     "traceback": [
      "\u001b[1;31m---------------------------------------------------------------------------\u001b[0m",
      "\u001b[1;31mAssertionError\u001b[0m                            Traceback (most recent call last)",
      "\u001b[1;32m<ipython-input-14-93950eb0199c>\u001b[0m in \u001b[0;36m<module>\u001b[1;34m\u001b[0m\n\u001b[0;32m     26\u001b[0m \u001b[0mwu\u001b[0m\u001b[1;33m.\u001b[0m\u001b[0mget_balance\u001b[0m\u001b[1;33m(\u001b[0m\u001b[1;33m)\u001b[0m\u001b[1;33m\u001b[0m\u001b[1;33m\u001b[0m\u001b[0m\n\u001b[0;32m     27\u001b[0m \u001b[1;33m\u001b[0m\u001b[0m\n\u001b[1;32m---> 28\u001b[1;33m \u001b[0mwu\u001b[0m\u001b[1;33m.\u001b[0m\u001b[0mwithdraw_money\u001b[0m\u001b[1;33m(\u001b[0m\u001b[1;33m-\u001b[0m\u001b[1;36m300\u001b[0m\u001b[1;33m)\u001b[0m\u001b[1;33m\u001b[0m\u001b[1;33m\u001b[0m\u001b[0m\n\u001b[0m\u001b[0;32m     29\u001b[0m \u001b[0mwu\u001b[0m\u001b[1;33m.\u001b[0m\u001b[0mget_balance\u001b[0m\u001b[1;33m(\u001b[0m\u001b[1;33m)\u001b[0m\u001b[1;33m\u001b[0m\u001b[1;33m\u001b[0m\u001b[0m\n",
      "\u001b[1;32m<ipython-input-14-93950eb0199c>\u001b[0m in \u001b[0;36mwithdraw_money\u001b[1;34m(self, money)\u001b[0m\n\u001b[0;32m     11\u001b[0m \u001b[1;33m\u001b[0m\u001b[0m\n\u001b[0;32m     12\u001b[0m     \u001b[1;32mdef\u001b[0m \u001b[0mwithdraw_money\u001b[0m\u001b[1;33m(\u001b[0m\u001b[0mself\u001b[0m\u001b[1;33m,\u001b[0m\u001b[0mmoney\u001b[0m\u001b[1;33m)\u001b[0m\u001b[1;33m:\u001b[0m\u001b[1;33m\u001b[0m\u001b[1;33m\u001b[0m\u001b[0m\n\u001b[1;32m---> 13\u001b[1;33m         \u001b[1;32massert\u001b[0m \u001b[0mmoney\u001b[0m \u001b[1;33m>\u001b[0m \u001b[1;36m0\u001b[0m\u001b[1;33m,\u001b[0m\u001b[1;34m\"提款必須大於0\"\u001b[0m\u001b[1;33m\u001b[0m\u001b[1;33m\u001b[0m\u001b[0m\n\u001b[0m\u001b[0;32m     14\u001b[0m         \u001b[1;32massert\u001b[0m \u001b[0mmoney\u001b[0m \u001b[1;33m<=\u001b[0m \u001b[0mself\u001b[0m\u001b[1;33m.\u001b[0m\u001b[0mbalance\u001b[0m\u001b[1;33m,\u001b[0m\u001b[1;34m\"存款不足\"\u001b[0m\u001b[1;33m\u001b[0m\u001b[1;33m\u001b[0m\u001b[0m\n\u001b[0;32m     15\u001b[0m         \u001b[0mslef\u001b[0m\u001b[1;33m.\u001b[0m\u001b[0mbalance\u001b[0m \u001b[1;33m-=\u001b[0m \u001b[0mmoney\u001b[0m\u001b[1;33m\u001b[0m\u001b[1;33m\u001b[0m\u001b[0m\n",
      "\u001b[1;31mAssertionError\u001b[0m: 提款必須大於0"
     ]
    }
   ],
   "source": [
    "class Banks():\n",
    "    title = '台北銀行'\n",
    "    def __init__(self,uname,money):\n",
    "        self.name = uname\n",
    "        self.balance = money\n",
    "        \n",
    "    def save_money(self,money):\n",
    "        assert money > 0 , \"存款必須大於0\"\n",
    "        self.balance += money\n",
    "        print(\"存款\",money,\"完成\")\n",
    "        \n",
    "    def withdraw_money(self,money):\n",
    "        assert money > 0,\"提款必須大於0\"\n",
    "        assert money <= self.balance,\"存款不足\"\n",
    "        slef.balance -= money\n",
    "        print(\"提款\",money,\"完成\")\n",
    "        \n",
    "    def get_balance(self):\n",
    "        print(self.name.title(),\"目前餘額:\",self.balance)\n",
    "        \n",
    "        \n",
    "wu = Banks('wu pizza',100)\n",
    "wu.get_balance()\n",
    "\n",
    "wu.save_money(300)\n",
    "wu.get_balance()\n",
    "\n",
    "wu.withdraw_money(-300)\n",
    "wu.get_balance()"
   ]
  },
  {
   "cell_type": "markdown",
   "metadata": {},
   "source": [
    "![](https://trello-attachments.s3.amazonaws.com/5e61ca986670c26011a76758/806x560/5d8aa30c5168329964017d8a212ada6b/image.png)"
   ]
  }
 ],
 "metadata": {
  "kernelspec": {
   "display_name": "Python 3",
   "language": "python",
   "name": "python3"
  },
  "language_info": {
   "codemirror_mode": {
    "name": "ipython",
    "version": 3
   },
   "file_extension": ".py",
   "mimetype": "text/x-python",
   "name": "python",
   "nbconvert_exporter": "python",
   "pygments_lexer": "ipython3",
   "version": "3.7.3"
  }
 },
 "nbformat": 4,
 "nbformat_minor": 2
}
