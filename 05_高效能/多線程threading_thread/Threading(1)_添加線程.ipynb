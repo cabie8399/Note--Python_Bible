{
 "cells": [
  {
   "cell_type": "markdown",
   "metadata": {},
   "source": [
    "# 大綱\n",
    "\n"
   ]
  },
  {
   "cell_type": "markdown",
   "metadata": {},
   "source": [
    "# 1. 什麼是Threading ?\n",
    "\n",
    "Threading是可以讓你在同一時間，分批量運算。<br>\n",
    "假設有很多的數據，把數據分成4個線程並同時運算，一定會比只有一個線程還要來的快。<br>\n",
    "就好像突然有4個仁同時來做事一樣。"
   ]
  },
  {
   "cell_type": "markdown",
   "metadata": {},
   "source": [
    "# 2. 查看基本訊息\n",
    "\n",
    "這裡我們使用threading來實作"
   ]
  },
  {
   "cell_type": "code",
   "execution_count": 9,
   "metadata": {},
   "outputs": [
    {
     "name": "stdout",
     "output_type": "stream",
     "text": [
      "5\n",
      "\n",
      "\n",
      "[<_MainThread(MainThread, started 139938212783936)>, <Thread(Thread-2, started daemon 139938031527680)>, <Heartbeat(Thread-3, started daemon 139937953347328)>, <HistorySavingThread(IPythonHistorySavingThread, started 139937928169216)>, <ParentPollerUnix(Thread-1, started daemon 139937919776512)>]\n",
      "\n",
      "\n",
      "<_MainThread(MainThread, started 139938212783936)>\n"
     ]
    }
   ],
   "source": [
    "import threading as td\n",
    "\n",
    "# 觀看已經激活的線程數\n",
    "print(td.active_count())\n",
    "print(\"\\n\")\n",
    "\n",
    "\n",
    "# 查看所有線程的訊息:输出的结果是一个<_MainThread(...)>带多个<Thread(...)>。\n",
    "print(td.enumerate()) \n",
    "print(\"\\n\")\n",
    "\n",
    "# 查看正在運行的線程\n",
    "print(td.current_thread())"
   ]
  },
  {
   "cell_type": "markdown",
   "metadata": {},
   "source": [
    "# 3. 添加線程\n",
    "\n",
    "\n",
    "threading.Thread()接收参数target代表这个线程要完成的任务"
   ]
  },
  {
   "cell_type": "code",
   "execution_count": 12,
   "metadata": {},
   "outputs": [
    {
     "name": "stdout",
     "output_type": "stream",
     "text": [
      "這是一個 <Thread(Thread-5, started 139937911383808)>\n"
     ]
    }
   ],
   "source": [
    "import threading as td\n",
    "\n",
    "def td_job():\n",
    "    print(\"這是一個 {}\".format(td.current_thread()))\n",
    "    \n",
    "def main():\n",
    "    thread = td.Thread(target=td_job,)\n",
    "    thread.start() #讓線程開始\n",
    "    \n",
    "    \n",
    "if __name__ == \"__main__\":\n",
    "    main()"
   ]
  }
 ],
 "metadata": {
  "kernelspec": {
   "display_name": "Python 3",
   "language": "python",
   "name": "python3"
  },
  "language_info": {
   "codemirror_mode": {
    "name": "ipython",
    "version": 3
   },
   "file_extension": ".py",
   "mimetype": "text/x-python",
   "name": "python",
   "nbconvert_exporter": "python",
   "pygments_lexer": "ipython3",
   "version": "3.7.4"
  }
 },
 "nbformat": 4,
 "nbformat_minor": 2
}
