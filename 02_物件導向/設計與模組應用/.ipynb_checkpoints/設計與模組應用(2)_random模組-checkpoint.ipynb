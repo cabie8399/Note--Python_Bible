{
 "cells": [
  {
   "cell_type": "markdown",
   "metadata": {},
   "source": [
    "# 設計與模組應用(2)"
   ]
  },
  {
   "cell_type": "markdown",
   "metadata": {},
   "source": [
    "# 1. 隨機模組 random\n",
    "\n",
    "產生min(含)到max(含)之間的整數<br>\n",
    "```randint(min,max)```"
   ]
  },
  {
   "cell_type": "code",
   "execution_count": 10,
   "metadata": {},
   "outputs": [
    {
     "name": "stdout",
     "output_type": "stream",
     "text": [
      "請猜一個數字:5\n",
      "數字介於 5 (含)~ 8 (含)之間\n",
      "請猜一個數字:6\n",
      "數字介於 6 (含)~ 8 (含)之間\n",
      "請猜一個數字:7\n",
      "數字介於 7 (含)~ 8 (含)之間\n",
      "請猜一個數字:8\n",
      "爆炸!!!!!!!!!!!你輸了!!!!你這個Loser!!!\n"
     ]
    }
   ],
   "source": [
    "# 作者:Zoe Wu\n",
    "# 功能:終極密碼，猜到爆炸為止才終止程式\n",
    "\n",
    "import random\n",
    "\n",
    "min,max = 1,10\n",
    "\n",
    "boom = random.randint(min,max)\n",
    "\n",
    "while True:\n",
    "    guess = int(input(\"請猜一個數字:\"))\n",
    "    if guess == boom:\n",
    "        print(\"爆炸!!!!!!!!!!!你輸了!!!!你這個Loser!!!\")\n",
    "        break\n",
    "    elif guess > boom:\n",
    "        print(\"數字介於\",boom,\"(含)~\",guess,\"(含)之間\")\n",
    "        continue\n",
    "    else:\n",
    "        print(\"數字介於\",guess,\"(含)~\",boom,\"(含)之間\")\n",
    "        continue"
   ]
  },
  {
   "cell_type": "markdown",
   "metadata": {},
   "source": [
    "# 2. choice():隨機選擇\n",
    "\n",
    "可回傳list中隨機一個元素"
   ]
  },
  {
   "cell_type": "code",
   "execution_count": 11,
   "metadata": {},
   "outputs": [
    {
     "name": "stdout",
     "output_type": "stream",
     "text": [
      "比大小\n"
     ]
    }
   ],
   "source": [
    "# 作者:Zoe Wu\n",
    "# 功能:choice()示範\n",
    "\n",
    "import random\n",
    "\n",
    "casino = [\"21點\",\"比大小\",\"吃角子\",\"妞妞\"]\n",
    "print(random.choice(casino))"
   ]
  },
  {
   "cell_type": "markdown",
   "metadata": {},
   "source": [
    "# 3. shuffle():重新排列順序"
   ]
  },
  {
   "cell_type": "code",
   "execution_count": 13,
   "metadata": {},
   "outputs": [
    {
     "name": "stdout",
     "output_type": "stream",
     "text": [
      "['d', 'b', 'a', 'c']\n"
     ]
    }
   ],
   "source": [
    "# 作者:Zoe Wu\n",
    "# 功能:shuffle()示範\n",
    "\n",
    "import random\n",
    "\n",
    "relay_race = [\"a\",\"b\",\"c\",\"d\"]\n",
    "random.shuffle(relay_race)\n",
    "print(relay_race)"
   ]
  },
  {
   "cell_type": "markdown",
   "metadata": {},
   "source": [
    "# 4. sample()\n",
    "\n",
    "語法:<br>\n",
    "sample(list,數量)"
   ]
  },
  {
   "cell_type": "code",
   "execution_count": 17,
   "metadata": {},
   "outputs": [
    {
     "name": "stdout",
     "output_type": "stream",
     "text": [
      "這期開獎號碼: 6 9 16 36 44 47 \n",
      "\n",
      "特別號碼: 27\n"
     ]
    }
   ],
   "source": [
    "# 作者:Zoe Wu\n",
    "# 功能:sample()示範:大樂透開獎機器，開出6個數字(1-49)，並有一個特別號。\n",
    "\n",
    "import random\n",
    "\n",
    "lottery = random.sample(range(1,50),7)\n",
    "special = lottery.pop() #特別號(pop()沒有索引則是刪除末端元素)\n",
    "\n",
    "print(\"這期開獎號碼:\",end = \" \")\n",
    "for i in sorted(lottery):\n",
    "    print(i,end = \" \")\n",
    "print(\"\\n\")\n",
    "print(\"特別號碼:\",special)\n",
    "\n",
    "\n",
    "\n"
   ]
  },
  {
   "cell_type": "markdown",
   "metadata": {},
   "source": [
    "# 5. uniform():產生x,y之間的浮點數"
   ]
  },
  {
   "cell_type": "code",
   "execution_count": 19,
   "metadata": {},
   "outputs": [
    {
     "name": "stdout",
     "output_type": "stream",
     "text": [
      "9.887621579597054\n",
      "9.67886096444872\n",
      "1.5831298961839706\n",
      "7.133819956448418\n",
      "5.227494026013831\n"
     ]
    }
   ],
   "source": [
    "# 作者:Zoe Wu\n",
    "# 功能:uniform()示範\n",
    "# 製造假資料應該蠻好用的\n",
    "\n",
    "import random\n",
    "\n",
    "for i in range(5):\n",
    "    print(random.uniform(1,10))"
   ]
  },
  {
   "cell_type": "markdown",
   "metadata": {},
   "source": [
    "# 6. random():產生0.0-1.0之間的浮點數"
   ]
  },
  {
   "cell_type": "code",
   "execution_count": 21,
   "metadata": {},
   "outputs": [
    {
     "name": "stdout",
     "output_type": "stream",
     "text": [
      "0.9600686902130597\n",
      "0.7551449681687303\n",
      "0.7808677539027034\n",
      "0.8497226091581102\n",
      "0.5987174186033067\n"
     ]
    }
   ],
   "source": [
    "# 作者:Zoe Wu\n",
    "# 功能:random()示範\n",
    "\n",
    "import random\n",
    "\n",
    "for i in range(5):\n",
    "    print(random.random())"
   ]
  },
  {
   "cell_type": "code",
   "execution_count": null,
   "metadata": {},
   "outputs": [],
   "source": []
  }
 ],
 "metadata": {
  "kernelspec": {
   "display_name": "Python 3",
   "language": "python",
   "name": "python3"
  },
  "language_info": {
   "codemirror_mode": {
    "name": "ipython",
    "version": 3
   },
   "file_extension": ".py",
   "mimetype": "text/x-python",
   "name": "python",
   "nbconvert_exporter": "python",
   "pygments_lexer": "ipython3",
   "version": "3.6.4"
  }
 },
 "nbformat": 4,
 "nbformat_minor": 2
}
