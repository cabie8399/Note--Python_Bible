{
 "cells": [
  {
   "cell_type": "markdown",
   "metadata": {},
   "source": [
    "# 設計與模組應用(1)\n",
    "\n",
    "在開發專案時，每個人可將他的函數或類別儲存在模組(module)中，供大家使用。<br>\n",
    "模組也稱為套件(Package)。\n",
    "\n",
    "\n",
    "> 1. 用函數建立模組<br>\n",
    "> 2. 用類別建立模組<br>"
   ]
  },
  {
   "cell_type": "markdown",
   "metadata": {},
   "source": [
    "# 1. 用函數建立模組\n",
    "\n",
    "首先先建立一個dessert.py，示範如何import dessert.py中的函數"
   ]
  },
  {
   "cell_type": "code",
   "execution_count": 18,
   "metadata": {},
   "outputs": [],
   "source": [
    "# dessert.py\n",
    "# 參考網址:(python 函數的可變參數 *args 和 **kwargs)http://blog.maxkit.com.tw/2018/12/python-args-kwargs.html\n",
    "\n",
    "def ice_cream(*ingredients):\n",
    "    print(\"冰淇淋 材料如下:\")\n",
    "    n = 0\n",
    "    for i in ingredients:\n",
    "        n += 1\n",
    "        print(str(n) + \",\" + i)\n",
    "        \n",
    "def pudding(brand,taste):\n",
    "    print(\"布丁 規格如下:\")\n",
    "    print(\"品牌:\",brand)\n",
    "    print(\"口味:\",taste)\n",
    "    \n",
    "    \n",
    "    \n",
    "#a = ice_cream(\"香蕉\",\"巧克力\",\"哈根達斯\")\n",
    "#print(\"\\n\")\n",
    "#b = pudding(\"統一\",\"牛奶\")"
   ]
  },
  {
   "cell_type": "code",
   "execution_count": 27,
   "metadata": {},
   "outputs": [
    {
     "name": "stdout",
     "output_type": "stream",
     "text": [
      "布丁 規格如下:\n",
      "品牌: 統一\n",
      "口味: 牛奶\n",
      "\n",
      "\n",
      "布丁 規格如下:\n",
      "品牌: 統一\n",
      "口味: 牛奶\n",
      "\n",
      "\n",
      "布丁 規格如下:\n",
      "品牌: 統一\n",
      "口味: 牛奶\n"
     ]
    }
   ],
   "source": [
    "# 可以使用as指定替代的名稱\n",
    "from dessert import pudding as pdg\n",
    "#import dessert\n",
    "\n",
    "dessert.pudding(\"統一\",\"牛奶\")\n",
    "\n",
    "print(\"\\n\")\n",
    "\n",
    "pudding(\"統一\",\"牛奶\")\n",
    "\n",
    "print(\"\\n\")\n",
    "\n",
    "pdg(\"統一\",\"牛奶\")"
   ]
  },
  {
   "cell_type": "markdown",
   "metadata": {},
   "source": [
    "# 2. 用類別建立模組\n",
    "\n",
    "首先先建立一個bank_info.py，內容包含兩個類別，示範如何import bank_info.py中的類別與函數。<br>\n",
    "\n",
    "**特殊:模組內導入另一個模組類別**<br>\n",
    "可以將類別Bank、Wu_bank拆成兩個py檔，分別為bank_info.py、wu.py<br>\n",
    "因為兩個類別有衍生關係，所以子類別Wu_bank也要導入父類別Bank<br>\n",
    "要在wu.py程式碼中加入```import bank_info```或```from bank_info import Bank```<br>"
   ]
  },
  {
   "cell_type": "code",
   "execution_count": 32,
   "metadata": {},
   "outputs": [
    {
     "name": "stdout",
     "output_type": "stream",
     "text": [
      "存款金額: 0\n",
      "Pizza 存入: 600 元\n",
      "存款金額: 600\n",
      "\n",
      "\n",
      "吳氏銀行\n"
     ]
    }
   ],
   "source": [
    "# bank_info.py\n",
    "# 內容包含兩個類別\n",
    "\n",
    "class Bank():\n",
    "    def __init__(self,user):\n",
    "        self.user = user\n",
    "        self.__total = 0 #設定私有的一開始存款金額\n",
    "        self.title = \"玉山銀行\" #設定開戶銀行\n",
    "        \n",
    "    def save_money(self,save):\n",
    "        self.__total += save\n",
    "        print(self.user,\"存入:\",save,\"元\")\n",
    "        \n",
    "    def take_money(self,take):\n",
    "        self.__total -= take\n",
    "        print(self.user,\"取出:\",take,\"元\")\n",
    "        \n",
    "    def get_total(self):\n",
    "        print(\"存款金額:\",self.__total)\n",
    "\n",
    "        \n",
    "        \n",
    "class Wu_Bank(Bank):\n",
    "    def __init__(self):\n",
    "        self.title = \"吳氏銀行\"\n",
    "        \n",
    "    def bank_title(self):\n",
    "        print(self.title)\n",
    "    \n",
    "        \n",
    "        \n",
    "        \n",
    "'''\n",
    "p = Bank(\"Pizza\") #Pizza開戶\n",
    "p.get_total()\n",
    "p.save_money(600) # Pizza存入600\n",
    "p.get_total()\n",
    "        \n",
    "print(\"\\n\")\n",
    "\n",
    "w = Wu_Bank()\n",
    "w.bank_title()\n",
    "'''\n"
   ]
  },
  {
   "cell_type": "code",
   "execution_count": 33,
   "metadata": {},
   "outputs": [
    {
     "name": "stdout",
     "output_type": "stream",
     "text": [
      "存款金額: 0\n",
      "Pizza 存入: 600 元\n",
      "存款金額: 600\n"
     ]
    }
   ],
   "source": [
    "from bank_info import Bank\n",
    "\n",
    "p = Bank(\"Pizza\") #Pizza開戶\n",
    "p.get_total()\n",
    "p.save_money(600) # Pizza存入600\n",
    "p.get_total()"
   ]
  },
  {
   "cell_type": "code",
   "execution_count": 35,
   "metadata": {},
   "outputs": [
    {
     "name": "stdout",
     "output_type": "stream",
     "text": [
      "存款金額: 0\n",
      "Pizza 存入: 600 元\n",
      "存款金額: 600\n"
     ]
    }
   ],
   "source": [
    "import bank_info\n",
    "\n",
    "p = Bank(\"Pizza\") #Pizza開戶\n",
    "p.get_total()\n",
    "p.save_money(600) # Pizza存入600\n",
    "p.get_total()"
   ]
  },
  {
   "cell_type": "code",
   "execution_count": null,
   "metadata": {},
   "outputs": [],
   "source": []
  },
  {
   "cell_type": "code",
   "execution_count": null,
   "metadata": {},
   "outputs": [],
   "source": []
  },
  {
   "cell_type": "code",
   "execution_count": null,
   "metadata": {},
   "outputs": [],
   "source": []
  },
  {
   "cell_type": "code",
   "execution_count": null,
   "metadata": {},
   "outputs": [],
   "source": []
  },
  {
   "cell_type": "code",
   "execution_count": null,
   "metadata": {},
   "outputs": [],
   "source": []
  },
  {
   "cell_type": "code",
   "execution_count": null,
   "metadata": {},
   "outputs": [],
   "source": []
  },
  {
   "cell_type": "code",
   "execution_count": null,
   "metadata": {},
   "outputs": [],
   "source": []
  },
  {
   "cell_type": "code",
   "execution_count": null,
   "metadata": {},
   "outputs": [],
   "source": []
  },
  {
   "cell_type": "code",
   "execution_count": null,
   "metadata": {},
   "outputs": [],
   "source": []
  }
 ],
 "metadata": {
  "kernelspec": {
   "display_name": "Python 3",
   "language": "python",
   "name": "python3"
  },
  "language_info": {
   "codemirror_mode": {
    "name": "ipython",
    "version": 3
   },
   "file_extension": ".py",
   "mimetype": "text/x-python",
   "name": "python",
   "nbconvert_exporter": "python",
   "pygments_lexer": "ipython3",
   "version": "3.6.4"
  }
 },
 "nbformat": 4,
 "nbformat_minor": 2
}
