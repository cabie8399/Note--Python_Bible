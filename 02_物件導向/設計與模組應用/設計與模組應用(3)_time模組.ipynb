{
 "cells": [
  {
   "cell_type": "markdown",
   "metadata": {},
   "source": [
    "# 時間 time模組"
   ]
  },
  {
   "cell_type": "markdown",
   "metadata": {},
   "source": [
    "# 1. time(): 從1970年1月1日 00:00:00AM 以來的秒數\n",
    "\n",
    "雖然看似沒用處，但計算程式執行時間時蠻好用的。"
   ]
  },
  {
   "cell_type": "code",
   "execution_count": 6,
   "metadata": {},
   "outputs": [
    {
     "name": "stdout",
     "output_type": "stream",
     "text": [
      "執行時間 => 2 秒\n"
     ]
    }
   ],
   "source": [
    "import time\n",
    "\n",
    "s_time = int(time.time())\n",
    "\n",
    "a=0\n",
    "while a < 10000000:\n",
    "    a += 1\n",
    "    \n",
    "e_time = int(time.time())\n",
    "\n",
    "print(\"執行時間 => {} 秒\".format(e_time-s_time))"
   ]
  },
  {
   "cell_type": "code",
   "execution_count": 21,
   "metadata": {},
   "outputs": [
    {
     "name": "stderr",
     "output_type": "stream",
     "text": [
      "/home/cabie/anaconda3/lib/python3.7/site-packages/ipykernel_launcher.py:6: DeprecationWarning: time.clock has been deprecated in Python 3.3 and will be removed from Python 3.8: use time.perf_counter or time.process_time instead\n",
      "  \n"
     ]
    },
    {
     "name": "stdout",
     "output_type": "stream",
     "text": [
      "執行時間 => 2.280000000000001 秒\n"
     ]
    },
    {
     "name": "stderr",
     "output_type": "stream",
     "text": [
      "/home/cabie/anaconda3/lib/python3.7/site-packages/ipykernel_launcher.py:12: DeprecationWarning: time.clock has been deprecated in Python 3.3 and will be removed from Python 3.8: use time.perf_counter or time.process_time instead\n",
      "  if sys.path[0] == '':\n"
     ]
    }
   ],
   "source": [
    "# 使用clock(): 更為精準，以浮点数计算的秒数返回当前的CPU时间。用来衡量不同程序的耗时，比time.time()更有用。\n",
    "\n",
    "\n",
    "import time\n",
    "\n",
    "s_time = float(time.clock())\n",
    "\n",
    "a=0\n",
    "while a < 10000000:\n",
    "    a += 1\n",
    "    \n",
    "e_time = float(time.clock())\n",
    "\n",
    "print(\"執行時間 => {} 秒\".format(e_time-s_time))"
   ]
  },
  {
   "cell_type": "markdown",
   "metadata": {},
   "source": [
    "# 2. asctime(): 顯示現在系統時間(可閱讀形式的)"
   ]
  },
  {
   "cell_type": "code",
   "execution_count": 7,
   "metadata": {},
   "outputs": [
    {
     "name": "stdout",
     "output_type": "stream",
     "text": [
      "Fri Feb 21 05:48:10 2020\n"
     ]
    }
   ],
   "source": [
    "import time \n",
    "\n",
    "print(time.asctime())"
   ]
  },
  {
   "cell_type": "markdown",
   "metadata": {},
   "source": [
    "# 3. localtime(): 時間結構資料"
   ]
  },
  {
   "cell_type": "code",
   "execution_count": 8,
   "metadata": {},
   "outputs": [
    {
     "name": "stdout",
     "output_type": "stream",
     "text": [
      "time.struct_time(tm_year=2020, tm_mon=2, tm_mday=21, tm_hour=5, tm_min=50, tm_sec=24, tm_wday=4, tm_yday=52, tm_isdst=0)\n",
      "\n",
      "\n",
      "2020\n",
      "2\n",
      "21\n",
      "5\n",
      "50\n",
      "24\n",
      "4\n",
      "52\n",
      "0\n"
     ]
    }
   ],
   "source": [
    "import time\n",
    "\n",
    "xtime = time.localtime()\n",
    "\n",
    "print(xtime)\n",
    "print(\"\\n\")\n",
    "\n",
    "\n",
    "for i in range(len(xtime)):\n",
    "    print(xtime[i])\n",
    "    "
   ]
  },
  {
   "cell_type": "markdown",
   "metadata": {},
   "source": [
    "# 4. 各種時間轉換 總結"
   ]
  },
  {
   "cell_type": "code",
   "execution_count": 11,
   "metadata": {},
   "outputs": [
    {
     "name": "stdout",
     "output_type": "stream",
     "text": [
      "1970/01/01秒數 => 1582235746.7124658\n"
     ]
    }
   ],
   "source": [
    "# 1970/01/01秒數\n",
    "\n",
    "import time\n",
    "\n",
    "print(\"1970/01/01秒數 =>\",time.time())"
   ]
  },
  {
   "cell_type": "code",
   "execution_count": 12,
   "metadata": {},
   "outputs": [
    {
     "name": "stdout",
     "output_type": "stream",
     "text": [
      "本地时间为 : Fri Feb 21 05:57:33 2020\n"
     ]
    }
   ],
   "source": [
    "# 格式化時間\n",
    "\n",
    "import time\n",
    " \n",
    "localtime = time.asctime( time.localtime(time.time()) )\n",
    "print(\"本地時間為 :\", localtime)"
   ]
  },
  {
   "cell_type": "code",
   "execution_count": 14,
   "metadata": {},
   "outputs": [
    {
     "name": "stdout",
     "output_type": "stream",
     "text": [
      "2020-02-21 05:59:52\n",
      "Fri Feb 21 05:59:52 2020\n"
     ]
    }
   ],
   "source": [
    "# 格式化日期\n",
    "\n",
    "import time\n",
    "\n",
    "print(time.strftime(\"%Y-%m-%d %H:%M:%S\",time.localtime()))\n",
    "print(time.strftime(\"%a %b %d %H:%M:%S %Y\",time.localtime()))"
   ]
  },
  {
   "cell_type": "code",
   "execution_count": 19,
   "metadata": {},
   "outputs": [
    {
     "name": "stdout",
     "output_type": "stream",
     "text": [
      "1582235992.0\n"
     ]
    }
   ],
   "source": [
    "# 格式化日期轉換成時間戳\n",
    "\n",
    "import time\n",
    "a = \"Fri Feb 21 05:59:52 2020\"\n",
    "print(time.mktime(time.strptime(a,\"%a %b %d %H:%M:%S %Y\")))\n"
   ]
  },
  {
   "cell_type": "markdown",
   "metadata": {},
   "source": [
    "### python中时间日期格式化符号：\n",
    "\n",
    "%y 两位数的年份表示（00-99）<br>\n",
    "%Y 四位数的年份表示（000-9999）<br>\n",
    "%m 月份（01-12）<br>\n",
    "%d 月内中的一天（0-31）<br>\n",
    "%H 24小时制小时数（0-23）<br>\n",
    "%I 12小时制小时数（01-12）<br>\n",
    "%M 分钟数（00=59）<br>\n",
    "%S 秒（00-59）<br>\n",
    "%a 本地简化星期名称<br>\n",
    "%A 本地完整星期名称<br>\n",
    "%b 本地简化的月份名称<br>\n",
    "%B 本地完整的月份名称<br>\n",
    "%c 本地相应的日期表示和时间表示<br>\n",
    "%j 年内的一天（001-366）<br>\n",
    "%p 本地A.M.或P.M.的等价符<br>\n",
    "%U 一年中的星期数（00-53）星期天为星期的开始<br>\n",
    "%w 星期（0-6），星期天为星期的开始<br>\n",
    "%W 一年中的星期数（00-53）星期一为星期的开始<br>\n",
    "%x 本地相应的日期表示<br>\n",
    "%X 本地相应的时间表示<br>\n",
    "%Z 当前时区的名称<br>\n",
    "%% %号本身<br>"
   ]
  },
  {
   "cell_type": "markdown",
   "metadata": {},
   "source": [
    "# 5. 判斷是否閏年"
   ]
  },
  {
   "cell_type": "code",
   "execution_count": 23,
   "metadata": {},
   "outputs": [
    {
     "name": "stdout",
     "output_type": "stream",
     "text": [
      "True\n",
      "False\n"
     ]
    }
   ],
   "source": [
    "import calendar as cal\n",
    "print(cal.isleap(2020)) #是閏年\n",
    "print(cal.isleap(2021)) #不是閏年\n"
   ]
  },
  {
   "cell_type": "markdown",
   "metadata": {},
   "source": [
    "### calendar.leapdays(y1,y2)\n",
    "返回在Y1，Y2两年之间的闰年总数。\n",
    "\n"
   ]
  },
  {
   "cell_type": "code",
   "execution_count": null,
   "metadata": {},
   "outputs": [],
   "source": []
  }
 ],
 "metadata": {
  "kernelspec": {
   "display_name": "Python 3",
   "language": "python",
   "name": "python3"
  },
  "language_info": {
   "codemirror_mode": {
    "name": "ipython",
    "version": 3
   },
   "file_extension": ".py",
   "mimetype": "text/x-python",
   "name": "python",
   "nbconvert_exporter": "python",
   "pygments_lexer": "ipython3",
   "version": "3.7.4"
  }
 },
 "nbformat": 4,
 "nbformat_minor": 2
}
