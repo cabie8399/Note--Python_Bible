{
 "cells": [
  {
   "cell_type": "markdown",
   "metadata": {},
   "source": [
    "# 1. 讀取TXT檔案"
   ]
  },
  {
   "cell_type": "code",
   "execution_count": 3,
   "metadata": {},
   "outputs": [
    {
     "data": {
      "text/plain": [
       "{'user': '吳披薩', 'id': '10257515', 'passwd': 'abcdefg'}"
      ]
     },
     "execution_count": 3,
     "metadata": {},
     "output_type": "execute_result"
    }
   ],
   "source": [
    "import json\n",
    "\n",
    "def open_file():\n",
    "    file = open(\"credential.txt\",\"r\")\n",
    "    js = file.read()\n",
    "    dic = json.loads(js)\n",
    "    file.close()\n",
    "    return dic\n",
    "\n",
    "open_file()"
   ]
  },
  {
   "cell_type": "code",
   "execution_count": 5,
   "metadata": {},
   "outputs": [
    {
     "name": "stdout",
     "output_type": "stream",
     "text": [
      "{'user': '吳披薩', 'id': '10257515'}\n"
     ]
    }
   ],
   "source": [
    "def open_file():\n",
    "    file = open(\"credential.txt\",\"r+\")\n",
    "    dic = eval(file.read())\n",
    "    file.close()\n",
    "    return dic\n",
    "\n",
    "a = open_file()\n",
    "    \n",
    "    \n",
    "new_json = {\n",
    "    \"user\":a[\"user\"],\n",
    "    \"id\":a[\"id\"]\n",
    "}\n",
    "\n",
    "print(new_json)"
   ]
  },
  {
   "cell_type": "markdown",
   "metadata": {},
   "source": [
    "# 2. 使用 os.read() 讀取"
   ]
  },
  {
   "cell_type": "code",
   "execution_count": 9,
   "metadata": {},
   "outputs": [
    {
     "name": "stdout",
     "output_type": "stream",
     "text": [
      "{'user': '吳披薩', 'id': '10257515', 'passwd': 'abcdefg'}\n"
     ]
    }
   ],
   "source": [
    "import os, sys, json\n",
    "# 打开文件\n",
    "fd = os.open(\"credential.txt\",os.O_RDWR)\n",
    "    \n",
    "# 读取文本\n",
    "#ret = os.read(fd,12)\n",
    "ret = os.read(fd,100)\n",
    "dic = json.loads(ret)\n",
    "print(dic)\n",
    "\n",
    "# 关闭文件\n",
    "os.close(fd)"
   ]
  }
 ],
 "metadata": {
  "kernelspec": {
   "display_name": "Python 3",
   "language": "python",
   "name": "python3"
  },
  "language_info": {
   "codemirror_mode": {
    "name": "ipython",
    "version": 3
   },
   "file_extension": ".py",
   "mimetype": "text/x-python",
   "name": "python",
   "nbconvert_exporter": "python",
   "pygments_lexer": "ipython3",
   "version": "3.7.4"
  }
 },
 "nbformat": 4,
 "nbformat_minor": 2
}
