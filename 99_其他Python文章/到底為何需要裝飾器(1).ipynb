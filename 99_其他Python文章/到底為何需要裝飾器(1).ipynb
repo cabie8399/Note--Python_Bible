{
 "cells": [
  {
   "cell_type": "markdown",
   "metadata": {},
   "source": [
    "# 大綱\n",
    "\n",
    "> 1. 裝飾器是什麼?\n",
    "> 2. 裝飾器出場\n",
    "> 3. *args、**kwargs"
   ]
  },
  {
   "cell_type": "markdown",
   "metadata": {},
   "source": [
    "# 1. 裝飾器是什麼?\n",
    "\n",
    "\n",
    "裝飾器本質上是一個 Python 函數或類，它可以讓其他函數或類在不需要做任何代碼修改的前提下增加額外功能，<br>\n",
    "裝飾器的返回值也是一個函數/類對象。它經常用於有切面需求的場景，比如：插入日誌、性能測試、事務處理、緩存、權限校驗等場景，<br>\n",
    "裝飾器是解決這類問題的絕佳設計。有了裝飾器，我們就可以抽離出大量與函數功能本身無關的雷同代碼到裝飾器中並繼續重用。<br>\n",
    "\n",
    "\n",
    "首先我們先看一個簡單的代碼:"
   ]
  },
  {
   "cell_type": "code",
   "execution_count": 36,
   "metadata": {},
   "outputs": [
    {
     "data": {
      "text/plain": [
       "'加總結果: 1250000025000000'"
      ]
     },
     "execution_count": 36,
     "metadata": {},
     "output_type": "execute_result"
    }
   ],
   "source": [
    "# 1-50000000加總\n",
    "def add():\n",
    "    a = 0\n",
    "    n = 1\n",
    "    while n <= 50000000:\n",
    "        a += n\n",
    "        n += 1\n",
    "    \n",
    "    return(\"加總結果: {}\".format(a))\n",
    "\n",
    "\n",
    "add()\n",
    "    \n",
    "    "
   ]
  },
  {
   "cell_type": "markdown",
   "metadata": {},
   "source": [
    "上述為一個從1加總到50的函數<br>\n",
    "假設我們要為某這個代碼測量他的執行時間和<br>\n",
    "那我們一般會怎麼做呢?"
   ]
  },
  {
   "cell_type": "code",
   "execution_count": 35,
   "metadata": {},
   "outputs": [
    {
     "data": {
      "text/plain": [
       "'加總結果: 1250000025000000 ，執行時間 => 3.252321199999983 秒'"
      ]
     },
     "execution_count": 35,
     "metadata": {},
     "output_type": "execute_result"
    }
   ],
   "source": [
    "import time\n",
    "\n",
    "\n",
    "\n",
    "# 1-50000000加總\n",
    "def add():\n",
    "    s_time = float(time.clock())\n",
    "    a = 0\n",
    "    n = 1\n",
    "    while n <= 50000000:\n",
    "        a += n\n",
    "        n += 1\n",
    "    \n",
    "    e_time = float(time.clock())\n",
    "    \n",
    "    \n",
    "    return(\"加總結果: {} ，執行時間 => {} 秒\".format(a , e_time-s_time))\n",
    "\n",
    "\n",
    "\n",
    "\n",
    "\n",
    "add()"
   ]
  },
  {
   "cell_type": "markdown",
   "metadata": {},
   "source": [
    "雖然這樣可以做出我們想要的結果，但因為計算執行時間，並不是我們主要功能<br>\n",
    "利用這樣的寫法，並不是最簡潔有力，況且若我們中間有好多函數都想計算它的運算時間的話<br>\n",
    "這樣會造成程式碼重複率高，也破壞主要功能的程式碼，並不是一個方法<br>\n"
   ]
  },
  {
   "cell_type": "markdown",
   "metadata": {},
   "source": [
    "# 2. 裝飾器出場\n",
    "\n",
    "好險Python中有一個叫做裝飾器的東西，主要功能就是為我們原有的函數增加新功能<br>\n",
    "像上述例子，加總1-50000000是我們原有的函數，但我想為他增加計算執行時間功能，我們可以這樣改寫:<br>\n",
    "    "
   ]
  },
  {
   "cell_type": "code",
   "execution_count": 52,
   "metadata": {},
   "outputs": [
    {
     "name": "stdout",
     "output_type": "stream",
     "text": [
      "執行函數: add ， 加總結果: 1250000025000000， 執行時間: 3.2631033000000116秒\n",
      "執行函數: add2 ， 加總結果: 450000015000000， 執行時間: 2.1447957000000315秒\n"
     ]
    }
   ],
   "source": [
    "import time\n",
    "\n",
    "\n",
    "# 計算執行時間函數\n",
    "def exec_time(func):\n",
    "    def wrapper():\n",
    "        #func_name = func.__name__\n",
    "        s_time = float(time.clock())\n",
    "        total = func()\n",
    "        e_time = float(time.clock())\n",
    "        return (\"執行函數: {} ， 加總結果: {}， 執行時間: {}秒\".format(func.__name__ ,total,e_time-s_time))\n",
    "    return wrapper\n",
    "    \n",
    "\n",
    "\n",
    "\n",
    "\n",
    "# 1-50000000加總\n",
    "@exec_time\n",
    "def add():\n",
    "    a = 0\n",
    "    n = 1\n",
    "    while n <= 50000000:\n",
    "        a += n\n",
    "        n += 1   \n",
    "    #return (\"加總結果: {}\".format(a))\n",
    "    return a\n",
    "\n",
    "\n",
    "\n",
    "\n",
    "\n",
    "# 1-30000000加總\n",
    "@exec_time\n",
    "def add2():\n",
    "    a = 0\n",
    "    n = 1\n",
    "    while n <= 30000000:\n",
    "        a += n\n",
    "        n += 1   \n",
    "    #return (\"加總結果: {}\".format(a))\n",
    "    return a\n",
    "\n",
    "\n",
    "\n",
    "\n",
    "\n",
    "\n",
    "print(add())\n",
    "print(add2())"
   ]
  },
  {
   "cell_type": "markdown",
   "metadata": {},
   "source": [
    "# 3.  \\*args、\\**kwargs\n",
    "\n",
    "若假設今天原有的func，傳入許多參數，那該怎麼辦呢?<br>\n",
    "\n",
    "一般函數的參數個數都是固定的，但如果遇到參數數量不固定的狀況，通常會將某些參數填上預設值，<br>\n",
    "在 python function 可以支援兩種可變數量的參數 \\*args 和 \\**kwargs。<br>"
   ]
  },
  {
   "cell_type": "code",
   "execution_count": 58,
   "metadata": {},
   "outputs": [
    {
     "name": "stdout",
     "output_type": "stream",
     "text": [
      "執行函數: foo ， 結果: I am pizza, age 5, height None， 執行時間: 2.6999996407539584e-06秒\n"
     ]
    }
   ],
   "source": [
    "import time\n",
    "\n",
    "\n",
    "# 計算執行時間函數\n",
    "def exec_time(func):\n",
    "    def wrapper(*args):\n",
    "        #func_name = func.__name__\n",
    "        s_time = float(time.clock())\n",
    "        res = func(*args)\n",
    "        e_time = float(time.clock())\n",
    "        return (\"執行函數: {} ， 結果: {}， 執行時間: {}秒\".format(func.__name__ ,res,e_time-s_time))\n",
    "    return wrapper\n",
    "\n",
    "\n",
    "\n",
    "\n",
    "# 打印一句話\n",
    "@exec_time\n",
    "def foo(name, age=None, height=None):\n",
    "    return (\"I am %s, age %s, height %s\" % (name, age, height))\n",
    "\n",
    "\n",
    "\n",
    "    \n",
    "    \n",
    "print(foo(\"pizza\",5))"
   ]
  },
  {
   "cell_type": "markdown",
   "metadata": {},
   "source": [
    "或以下寫法 \\*args, \\**kwargs"
   ]
  },
  {
   "cell_type": "code",
   "execution_count": 59,
   "metadata": {},
   "outputs": [
    {
     "name": "stdout",
     "output_type": "stream",
     "text": [
      "執行函數: foo ， 結果: I am pizza, age 5, height None， 執行時間: 3.999999989900971e-06秒\n"
     ]
    }
   ],
   "source": [
    "import time\n",
    "\n",
    "\n",
    "# 計算執行時間函數\n",
    "def exec_time(func):\n",
    "    def wrapper(*args, **kwargs):\n",
    "        #func_name = func.__name__\n",
    "        s_time = float(time.clock())\n",
    "        res = func(*args, **kwargs)\n",
    "        e_time = float(time.clock())\n",
    "        return (\"執行函數: {} ， 結果: {}， 執行時間: {}秒\".format(func.__name__ ,res,e_time-s_time))\n",
    "    return wrapper\n",
    "\n",
    "\n",
    "\n",
    "\n",
    "# 打印一句話\n",
    "@exec_time\n",
    "def foo(name, age=None, height=None):\n",
    "    return (\"I am %s, age %s, height %s\" % (name, age, height))\n",
    "\n",
    "\n",
    "\n",
    "\n",
    "    \n",
    "    \n",
    "    \n",
    "print(foo(\"pizza\",5))"
   ]
  },
  {
   "cell_type": "markdown",
   "metadata": {},
   "source": [
    "## 補充說明 \\*args 和 \\**kwargs\n",
    "\n",
    "- 參考網站: http://blog.maxkit.com.tw/2018/12/python-args-kwargs.html\n",
    "\n",
    "\\*args是可變的positional arguments列表，\\**kwargs是可變的keyword arguments列表。<br>\n",
    "兩個可以同時使用，但在使用時，\\*args必須在\\**kwargs的前面，因為positional arguments，<br>\n",
    "有位置順序的對應，必須位於keyword arguments之前。<br>"
   ]
  },
  {
   "cell_type": "code",
   "execution_count": 61,
   "metadata": {},
   "outputs": [
    {
     "name": "stdout",
     "output_type": "stream",
     "text": [
      "a=1\n",
      "Optional argument: 22\n",
      "Optional argument: 33\n"
     ]
    }
   ],
   "source": [
    "def fun(a, *args):\n",
    "    print(\"a={}\".format(a))\n",
    "    for arg in args:\n",
    "        print('Optional argument: {}'.format(arg))\n",
    "\n",
    "fun(1,22,33)"
   ]
  },
  {
   "cell_type": "markdown",
   "metadata": {},
   "source": [
    "如果同時加上 \\**kwargs"
   ]
  },
  {
   "cell_type": "code",
   "execution_count": 62,
   "metadata": {},
   "outputs": [
    {
     "name": "stdout",
     "output_type": "stream",
     "text": [
      "a=1\n",
      "Optional argument: 22\n",
      "Optional argument: 33\n",
      "Optional kwargs argument key: k1 value 44\n",
      "Optional kwargs argument key: k2 value 55\n"
     ]
    }
   ],
   "source": [
    "def fun(a, *args, **kwargs):\n",
    "    print(\"a={}\".format(a))\n",
    "    for arg in args:\n",
    "        print('Optional argument: {}'.format( arg ) )\n",
    "\n",
    "    for k, v in kwargs.items():\n",
    "        print('Optional kwargs argument key: {} value {}'.format(k, v))\n",
    "\n",
    "fun(1,22,33, k1=44, k2=55)"
   ]
  },
  {
   "cell_type": "markdown",
   "metadata": {},
   "source": [
    "# 4. 類裝飾器\n",
    "\n",
    "沒錯，裝飾器不僅可以是函數，還可以是類，相比函數裝飾器，類裝飾器具有靈活度大、高內聚、封裝性等優點。<br>\n",
    "使用類裝飾器主要依靠類的__call__方法，當使用 @ 形式將裝飾器附加到函數上時，就會調用此方法。<br>"
   ]
  },
  {
   "cell_type": "code",
   "execution_count": 63,
   "metadata": {},
   "outputs": [
    {
     "name": "stdout",
     "output_type": "stream",
     "text": [
      "class decorator runing\n",
      "bar\n",
      "class decorator ending\n"
     ]
    }
   ],
   "source": [
    "class Foo(object):\n",
    "    def __init__(self,func):\n",
    "        self._func = func\n",
    "        \n",
    "    def __call__(self):\n",
    "        print ('class decorator runing')\n",
    "        self._func()\n",
    "        print ('class decorator ending')\n",
    "        \n",
    "        \n",
    "@Foo\n",
    "def bar():\n",
    "    print ('bar')\n",
    "\n",
    "bar()"
   ]
  },
  {
   "cell_type": "markdown",
   "metadata": {},
   "source": [
    "# 5. 裝飾器順序"
   ]
  },
  {
   "cell_type": "code",
   "execution_count": null,
   "metadata": {},
   "outputs": [],
   "source": [
    "@a\n",
    "@b\n",
    "@c\n",
    "def f ():\n",
    "    pass"
   ]
  },
  {
   "cell_type": "markdown",
   "metadata": {},
   "source": [
    "它的執行順序是從裡到外，最先調用最裡層的裝飾器，最後調用最外層的裝飾器，它等效於"
   ]
  },
  {
   "cell_type": "code",
   "execution_count": null,
   "metadata": {},
   "outputs": [],
   "source": [
    "f = a(b(c(f)))"
   ]
  }
 ],
 "metadata": {
  "kernelspec": {
   "display_name": "Python 3",
   "language": "python",
   "name": "python3"
  },
  "language_info": {
   "codemirror_mode": {
    "name": "ipython",
    "version": 3
   },
   "file_extension": ".py",
   "mimetype": "text/x-python",
   "name": "python",
   "nbconvert_exporter": "python",
   "pygments_lexer": "ipython3",
   "version": "3.6.4"
  }
 },
 "nbformat": 4,
 "nbformat_minor": 2
}
